{
 "cells": [
  {
   "cell_type": "code",
   "execution_count": 1,
   "id": "c02c9fe9-bef5-4f1e-8b06-a2f5ea0f21c5",
   "metadata": {
    "tags": []
   },
   "outputs": [],
   "source": [
    "import numpy as np\n",
    "import pandas as pd\n",
    "import matplotlib.pyplot as plt\n",
    "from sklearn.model_selection import train_test_split\n",
    "from sklearn.linear_model import LinearRegression\n",
    "from sklearn.metrics import mean_squared_error"
   ]
  },
  {
   "cell_type": "markdown",
   "id": "f0e11cfb-c16f-4193-8d8e-28c0f6174912",
   "metadata": {},
   "source": [
    "## Regression with limited number of features"
   ]
  },
  {
   "cell_type": "code",
   "execution_count": 2,
   "id": "22050167-a20a-436e-a2d0-b34f063aa2b1",
   "metadata": {
    "tags": []
   },
   "outputs": [
    {
     "data": {
      "text/html": [
       "<div>\n",
       "<style scoped>\n",
       "    .dataframe tbody tr th:only-of-type {\n",
       "        vertical-align: middle;\n",
       "    }\n",
       "\n",
       "    .dataframe tbody tr th {\n",
       "        vertical-align: top;\n",
       "    }\n",
       "\n",
       "    .dataframe thead th {\n",
       "        text-align: right;\n",
       "    }\n",
       "</style>\n",
       "<table border=\"1\" class=\"dataframe\">\n",
       "  <thead>\n",
       "    <tr style=\"text-align: right;\">\n",
       "      <th></th>\n",
       "      <th>radiation</th>\n",
       "      <th>temperature</th>\n",
       "      <th>wind</th>\n",
       "      <th>ozone</th>\n",
       "    </tr>\n",
       "  </thead>\n",
       "  <tbody>\n",
       "    <tr>\n",
       "      <th>0</th>\n",
       "      <td>190</td>\n",
       "      <td>67</td>\n",
       "      <td>7.4</td>\n",
       "      <td>41</td>\n",
       "    </tr>\n",
       "    <tr>\n",
       "      <th>1</th>\n",
       "      <td>118</td>\n",
       "      <td>72</td>\n",
       "      <td>8.0</td>\n",
       "      <td>36</td>\n",
       "    </tr>\n",
       "    <tr>\n",
       "      <th>2</th>\n",
       "      <td>149</td>\n",
       "      <td>74</td>\n",
       "      <td>12.6</td>\n",
       "      <td>12</td>\n",
       "    </tr>\n",
       "    <tr>\n",
       "      <th>3</th>\n",
       "      <td>313</td>\n",
       "      <td>62</td>\n",
       "      <td>11.5</td>\n",
       "      <td>18</td>\n",
       "    </tr>\n",
       "    <tr>\n",
       "      <th>4</th>\n",
       "      <td>299</td>\n",
       "      <td>65</td>\n",
       "      <td>8.6</td>\n",
       "      <td>23</td>\n",
       "    </tr>\n",
       "    <tr>\n",
       "      <th>...</th>\n",
       "      <td>...</td>\n",
       "      <td>...</td>\n",
       "      <td>...</td>\n",
       "      <td>...</td>\n",
       "    </tr>\n",
       "    <tr>\n",
       "      <th>106</th>\n",
       "      <td>20</td>\n",
       "      <td>63</td>\n",
       "      <td>16.6</td>\n",
       "      <td>14</td>\n",
       "    </tr>\n",
       "    <tr>\n",
       "      <th>107</th>\n",
       "      <td>193</td>\n",
       "      <td>70</td>\n",
       "      <td>6.9</td>\n",
       "      <td>30</td>\n",
       "    </tr>\n",
       "    <tr>\n",
       "      <th>108</th>\n",
       "      <td>191</td>\n",
       "      <td>75</td>\n",
       "      <td>14.3</td>\n",
       "      <td>14</td>\n",
       "    </tr>\n",
       "    <tr>\n",
       "      <th>109</th>\n",
       "      <td>131</td>\n",
       "      <td>76</td>\n",
       "      <td>8.0</td>\n",
       "      <td>18</td>\n",
       "    </tr>\n",
       "    <tr>\n",
       "      <th>110</th>\n",
       "      <td>223</td>\n",
       "      <td>68</td>\n",
       "      <td>11.5</td>\n",
       "      <td>20</td>\n",
       "    </tr>\n",
       "  </tbody>\n",
       "</table>\n",
       "<p>111 rows × 4 columns</p>\n",
       "</div>"
      ],
      "text/plain": [
       "     radiation  temperature  wind  ozone\n",
       "0          190           67   7.4     41\n",
       "1          118           72   8.0     36\n",
       "2          149           74  12.6     12\n",
       "3          313           62  11.5     18\n",
       "4          299           65   8.6     23\n",
       "..         ...          ...   ...    ...\n",
       "106         20           63  16.6     14\n",
       "107        193           70   6.9     30\n",
       "108        191           75  14.3     14\n",
       "109        131           76   8.0     18\n",
       "110        223           68  11.5     20\n",
       "\n",
       "[111 rows x 4 columns]"
      ]
     },
     "execution_count": 2,
     "metadata": {},
     "output_type": "execute_result"
    }
   ],
   "source": [
    "df = pd.read_csv('./ozon.csv')\n",
    "df"
   ]
  },
  {
   "cell_type": "code",
   "execution_count": 3,
   "id": "56bbeebd-5469-4f5f-9b4c-def93452209f",
   "metadata": {
    "tags": []
   },
   "outputs": [],
   "source": [
    "feature_columns = ['radiation', 'temperature', 'wind']\n",
    "label_column = ['ozone']"
   ]
  },
  {
   "cell_type": "code",
   "execution_count": 4,
   "id": "ce97548b-10fc-490c-8bc1-dde1fb3a24b7",
   "metadata": {
    "tags": []
   },
   "outputs": [
    {
     "name": "stdout",
     "output_type": "stream",
     "text": [
      "train set size: 264\n",
      "test set size: 69\n"
     ]
    }
   ],
   "source": [
    "def my_train_test_split(df, feature_columns, label_column, test_size=0.2):\n",
    "    \n",
    "    train_set, test_set = train_test_split(\n",
    "        df,\n",
    "        test_size=test_size\n",
    "    )\n",
    "\n",
    "    X_train = train_set[feature_columns].to_numpy()\n",
    "    Y_train = train_set[label_column].to_numpy()\n",
    "    X_test = test_set[feature_columns].to_numpy()\n",
    "    Y_test = test_set[label_column].to_numpy()\n",
    "\n",
    "    return X_train, Y_train, X_test, Y_test\n",
    "    \n",
    "X_train, Y_train, X_test, Y_test = my_train_test_split(\n",
    "    df=df,\n",
    "    feature_columns=feature_columns,\n",
    "    label_column=label_column,\n",
    "    test_size=0.2\n",
    ")\n",
    "print(f'train set size: {X_train.size}')\n",
    "print(f'test set size: {X_test.size}')"
   ]
  },
  {
   "cell_type": "code",
   "execution_count": 5,
   "id": "4a075525-f53d-4cbc-bdf4-eba36c8fba20",
   "metadata": {
    "tags": []
   },
   "outputs": [
    {
     "name": "stdout",
     "output_type": "stream",
     "text": [
      "learned parameters: [[ 0.06712663  1.63863132 -3.37529912]]\n",
      "learned intercept: [-63.49025969]\n"
     ]
    }
   ],
   "source": [
    "regressor = LinearRegression(\n",
    "    copy_X=True\n",
    ").fit(X_train, Y_train)\n",
    "print(f'learned parameters: {regressor.coef_}')\n",
    "print(f'learned intercept: {regressor.intercept_}')"
   ]
  },
  {
   "cell_type": "code",
   "execution_count": 6,
   "id": "6a46c02b-8f5c-4486-9004-91eb07d4a28e",
   "metadata": {
    "tags": []
   },
   "outputs": [
    {
     "name": "stdout",
     "output_type": "stream",
     "text": [
      "train mse: 482.74034944635224\n",
      "test mse: 243.15299986998335\n"
     ]
    }
   ],
   "source": [
    "train_mse = mean_squared_error(regressor.predict(X_train), Y_train)\n",
    "test_mse = mean_squared_error(regressor.predict(X_test), Y_test)\n",
    "\n",
    "print(f'train mse: {train_mse}')\n",
    "print(f'test mse: {test_mse}')"
   ]
  },
  {
   "cell_type": "code",
   "execution_count": 7,
   "id": "24325953-55ee-4002-8334-62d01d1bca62",
   "metadata": {
    "tags": []
   },
   "outputs": [],
   "source": [
    "NOISE_VARS = np.linspace(0, 50, 100)\n",
    "train_mses = []\n",
    "test_mses = []\n",
    "\n",
    "\n",
    "for noise_var in NOISE_VARS:\n",
    "    \n",
    "    df_ = df.copy()\n",
    "\n",
    "    df_['ozone'] = df_['ozone'].apply(\n",
    "        lambda x: x + np.random.randn() * noise_var\n",
    "    )\n",
    "    \n",
    "    X_train, Y_train, X_test, Y_test = my_train_test_split(\n",
    "        df=df_,\n",
    "        feature_columns=feature_columns,\n",
    "        label_column=label_column,\n",
    "        test_size=0.2\n",
    "    )\n",
    "    \n",
    "    regressor = LinearRegression(\n",
    "        copy_X=True\n",
    "    ).fit(X_train, Y_train)\n",
    "    \n",
    "    train_mse = mean_squared_error(regressor.predict(X_train), Y_train)\n",
    "    test_mse = mean_squared_error(regressor.predict(X_test), Y_test)\n",
    "    \n",
    "    train_mses.append(train_mse)\n",
    "    test_mses.append(test_mse)"
   ]
  },
  {
   "cell_type": "code",
   "execution_count": 8,
   "id": "3232773d-a39d-4c6d-9bd5-3ad04f85185f",
   "metadata": {
    "tags": []
   },
   "outputs": [
    {
     "data": {
      "image/png": "[encoded data removed]",
      "text/plain": [
       "<Figure size 800x600 with 1 Axes>"
      ]
     },
     "metadata": {},
     "output_type": "display_data"
    }
   ],
   "source": [
    "plt.figure(figsize=(8, 6))\n",
    "plt.plot(NOISE_VARS, train_mses, label='train')\n",
    "plt.plot(NOISE_VARS, test_mses, label='test')\n",
    "plt.xlabel('Noise STD')\n",
    "plt.ylabel('MSE')\n",
    "plt.legend()\n",
    "plt.grid()"
   ]
  },
  {
   "cell_type": "markdown",
   "id": "b189f08a-fe47-4705-aff4-eea94a23d7f1",
   "metadata": {},
   "source": [
    "Both train and test error increase as the noise variance increases."
   ]
  },
  {
   "cell_type": "code",
   "execution_count": 9,
   "id": "f8dd5183-a492-4621-bd2c-17d1ede2726d",
   "metadata": {
    "tags": []
   },
   "outputs": [],
   "source": [
    "df_ = df.copy()\n",
    "for col in feature_columns:\n",
    "    df_[f'{col}_squared'] = df_[col].apply(lambda x: x**2)\n",
    "\n",
    "feature_columns.extend([f'{fc}_squared' for fc in feature_columns])"
   ]
  },
  {
   "cell_type": "code",
   "execution_count": 10,
   "id": "220ea1b3-232b-498b-b477-7d581ade3b82",
   "metadata": {
    "tags": []
   },
   "outputs": [],
   "source": [
    "X_train, Y_train, X_test, Y_test = my_train_test_split(\n",
    "    df=df_,\n",
    "    feature_columns=feature_columns,\n",
    "    label_column=label_column,\n",
    "    test_size=0.2\n",
    ")\n",
    "\n",
    "regressor = LinearRegression(\n",
    "    copy_X=True\n",
    ").fit(X_train, Y_train)\n",
    "\n",
    "train_mse = mean_squared_error(regressor.predict(X_train), Y_train)\n",
    "test_mse = mean_squared_error(regressor.predict(X_test), Y_test)"
   ]
  },
  {
   "cell_type": "code",
   "execution_count": 11,
   "id": "5a58524e-1494-457d-bd42-de743f7d5d2e",
   "metadata": {
    "tags": []
   },
   "outputs": [
    {
     "name": "stdout",
     "output_type": "stream",
     "text": [
      "train mse: 207.58246742139082\n",
      "test mse: 744.0629107235917\n"
     ]
    }
   ],
   "source": [
    "print(f'train mse: {train_mse}')\n",
    "print(f'test mse: {test_mse}')"
   ]
  },
  {
   "cell_type": "markdown",
   "id": "f44999af-0cc6-411d-9b25-673597db5873",
   "metadata": {
    "tags": []
   },
   "source": [
    "## Regression on data with large number of features"
   ]
  },
  {
   "cell_type": "code",
   "execution_count": 46,
   "id": "95d4f973-7309-496f-bd65-b84805999edb",
   "metadata": {
    "tags": []
   },
   "outputs": [],
   "source": [
    "import os\n",
    "from pathlib import Path\n",
    "import numpy as np\n",
    "import matplotlib.pyplot as plt \n",
    "import cv2\n",
    "from sklearn.model_selection import train_test_split\n",
    "from sklearn.linear_model import LinearRegression\n",
    "from sklearn.metrics import mean_squared_error\n",
    "from tqdm.notebook import tqdm"
   ]
  },
  {
   "cell_type": "code",
   "execution_count": 26,
   "id": "d10e47dc-607e-4583-9331-30ba8f35739f",
   "metadata": {
    "tags": []
   },
   "outputs": [],
   "source": [
    "# Load images\n",
    "\n",
    "DATASET_PATH = Path('./dataset')\n",
    "    \n",
    "def load_data(data_dir, crop_slice=None):\n",
    "    data = []\n",
    "    for directory in os.listdir(DATASET_PATH):\n",
    "        for label, img_path in enumerate(os.listdir(DATASET_PATH / directory)):\n",
    "            img = cv2.imread(str(DATASET_PATH / directory / img_path))\n",
    "            img = cv2.cvtColor(img, cv2.COLOR_BGR2GRAY)\n",
    "            if crop_slice:\n",
    "                img = img[crop_slice]\n",
    "            data.append((img, label))\n",
    "    \n",
    "    return data"
   ]
  },
  {
   "cell_type": "code",
   "execution_count": null,
   "id": "185c2b22-4f3d-4aab-a74f-53732e18d3e5",
   "metadata": {},
   "outputs": [],
   "source": [
    "data = load_data(data_dir=DATASET_PATH)"
   ]
  },
  {
   "cell_type": "code",
   "execution_count": 3,
   "id": "6842fa6f-638c-4b75-84ec-e21e785ec902",
   "metadata": {
    "tags": []
   },
   "outputs": [],
   "source": [
    "X = np.concatenate(\n",
    "    [x[0].reshape(1, -1) for x in data],\n",
    "    axis = 0\n",
    ")\n",
    "\n",
    "Y = np.array([x[1] for x in data])"
   ]
  },
  {
   "cell_type": "code",
   "execution_count": 4,
   "id": "2e805dd9-231a-4f11-8cf7-6e307c8dbc55",
   "metadata": {
    "tags": []
   },
   "outputs": [
    {
     "name": "stdout",
     "output_type": "stream",
     "text": [
      "training size: 379\n",
      "test size: 254\n"
     ]
    }
   ],
   "source": [
    "# Train test split\n",
    "\n",
    "X_train, X_test, Y_train, Y_test = train_test_split(X, Y, test_size=0.4)\n",
    "\n",
    "print(f'training size: {X_train.shape[0]}')\n",
    "print(f'test size: {X_test.shape[0]}')"
   ]
  },
  {
   "cell_type": "code",
   "execution_count": null,
   "id": "f53181f4-de32-4218-9497-7e4ba1ece6b1",
   "metadata": {
    "tags": []
   },
   "outputs": [],
   "source": [
    "regressor = LinearRegression(copy_X=True)\n",
    "regressor.fit(X_train, Y_train)"
   ]
  },
  {
   "cell_type": "markdown",
   "id": "26dcc509-c9be-4eb1-b495-53dda4364590",
   "metadata": {
    "tags": []
   },
   "source": [
    "Regressor fails to train, because it requires a lot of memory."
   ]
  },
  {
   "cell_type": "code",
   "execution_count": 27,
   "id": "4ae17d3b-96ad-4790-b9c7-cea899158991",
   "metadata": {
    "tags": []
   },
   "outputs": [],
   "source": [
    "FACE_SLICE = (slice(150, -150), slice(300, 900))\n",
    "\n",
    "data = load_data(data_dir=DATASET_PATH, crop_slice=FACE_SLICE)"
   ]
  },
  {
   "cell_type": "code",
   "execution_count": 28,
   "id": "ddc69e8b-8c15-4cb3-88c6-73009cb1fcc9",
   "metadata": {
    "tags": []
   },
   "outputs": [],
   "source": [
    "X = np.concatenate(\n",
    "    [x[0].reshape(1, -1) for x in data],\n",
    "    axis = 0\n",
    ")\n",
    "\n",
    "Y = np.array([x[1] for x in data])"
   ]
  },
  {
   "cell_type": "code",
   "execution_count": 29,
   "id": "8d074542-f34f-4b8f-99a5-60e2d9802534",
   "metadata": {
    "tags": []
   },
   "outputs": [
    {
     "name": "stdout",
     "output_type": "stream",
     "text": [
      "training size: 379\n",
      "test size: 254\n"
     ]
    }
   ],
   "source": [
    "# Train test split\n",
    "\n",
    "X_train, X_test, Y_train, Y_test = train_test_split(X, Y, test_size=0.4)\n",
    "\n",
    "print(f'training size: {X_train.shape[0]}')\n",
    "print(f'test size: {X_test.shape[0]}')"
   ]
  },
  {
   "cell_type": "code",
   "execution_count": 6,
   "id": "d09e15c4-4c20-4615-bdab-10314ff28f25",
   "metadata": {
    "tags": []
   },
   "outputs": [
    {
     "data": {
      "text/html": [
       "<style>#sk-container-id-1 {color: black;background-color: white;}#sk-container-id-1 pre{padding: 0;}#sk-container-id-1 div.sk-toggleable {background-color: white;}#sk-container-id-1 label.sk-toggleable__label {cursor: pointer;display: block;width: 100%;margin-bottom: 0;padding: 0.3em;box-sizing: border-box;text-align: center;}#sk-container-id-1 label.sk-toggleable__label-arrow:before {content: \"▸\";float: left;margin-right: 0.25em;color: #696969;}#sk-container-id-1 label.sk-toggleable__label-arrow:hover:before {color: black;}#sk-container-id-1 div.sk-estimator:hover label.sk-toggleable__label-arrow:before {color: black;}#sk-container-id-1 div.sk-toggleable__content {max-height: 0;max-width: 0;overflow: hidden;text-align: left;background-color: #f0f8ff;}#sk-container-id-1 div.sk-toggleable__content pre {margin: 0.2em;color: black;border-radius: 0.25em;background-color: #f0f8ff;}#sk-container-id-1 input.sk-toggleable__control:checked~div.sk-toggleable__content {max-height: 200px;max-width: 100%;overflow: auto;}#sk-container-id-1 input.sk-toggleable__control:checked~label.sk-toggleable__label-arrow:before {content: \"▾\";}#sk-container-id-1 div.sk-estimator input.sk-toggleable__control:checked~label.sk-toggleable__label {background-color: #d4ebff;}#sk-container-id-1 div.sk-label input.sk-toggleable__control:checked~label.sk-toggleable__label {background-color: #d4ebff;}#sk-container-id-1 input.sk-hidden--visually {border: 0;clip: rect(1px 1px 1px 1px);clip: rect(1px, 1px, 1px, 1px);height: 1px;margin: -1px;overflow: hidden;padding: 0;position: absolute;width: 1px;}#sk-container-id-1 div.sk-estimator {font-family: monospace;background-color: #f0f8ff;border: 1px dotted black;border-radius: 0.25em;box-sizing: border-box;margin-bottom: 0.5em;}#sk-container-id-1 div.sk-estimator:hover {background-color: #d4ebff;}#sk-container-id-1 div.sk-parallel-item::after {content: \"\";width: 100%;border-bottom: 1px solid gray;flex-grow: 1;}#sk-container-id-1 div.sk-label:hover label.sk-toggleable__label {background-color: #d4ebff;}#sk-container-id-1 div.sk-serial::before {content: \"\";position: absolute;border-left: 1px solid gray;box-sizing: border-box;top: 0;bottom: 0;left: 50%;z-index: 0;}#sk-container-id-1 div.sk-serial {display: flex;flex-direction: column;align-items: center;background-color: white;padding-right: 0.2em;padding-left: 0.2em;position: relative;}#sk-container-id-1 div.sk-item {position: relative;z-index: 1;}#sk-container-id-1 div.sk-parallel {display: flex;align-items: stretch;justify-content: center;background-color: white;position: relative;}#sk-container-id-1 div.sk-item::before, #sk-container-id-1 div.sk-parallel-item::before {content: \"\";position: absolute;border-left: 1px solid gray;box-sizing: border-box;top: 0;bottom: 0;left: 50%;z-index: -1;}#sk-container-id-1 div.sk-parallel-item {display: flex;flex-direction: column;z-index: 1;position: relative;background-color: white;}#sk-container-id-1 div.sk-parallel-item:first-child::after {align-self: flex-end;width: 50%;}#sk-container-id-1 div.sk-parallel-item:last-child::after {align-self: flex-start;width: 50%;}#sk-container-id-1 div.sk-parallel-item:only-child::after {width: 0;}#sk-container-id-1 div.sk-dashed-wrapped {border: 1px dashed gray;margin: 0 0.4em 0.5em 0.4em;box-sizing: border-box;padding-bottom: 0.4em;background-color: white;}#sk-container-id-1 div.sk-label label {font-family: monospace;font-weight: bold;display: inline-block;line-height: 1.2em;}#sk-container-id-1 div.sk-label-container {text-align: center;}#sk-container-id-1 div.sk-container {/* jupyter's `normalize.less` sets `[hidden] { display: none; }` but bootstrap.min.css set `[hidden] { display: none !important; }` so we also need the `!important` here to be able to override the default hidden behavior on the sphinx rendered scikit-learn.org. See: https://github.com/scikit-learn/scikit-learn/issues/21755 */display: inline-block !important;position: relative;}#sk-container-id-1 div.sk-text-repr-fallback {display: none;}</style><div id=\"sk-container-id-1\" class=\"sk-top-container\"><div class=\"sk-text-repr-fallback\"><pre>LinearRegression()</pre><b>In a Jupyter environment, please rerun this cell to show the HTML representation or trust the notebook. <br />On GitHub, the HTML representation is unable to render, please try loading this page with nbviewer.org.</b></div><div class=\"sk-container\" hidden><div class=\"sk-item\"><div class=\"sk-estimator sk-toggleable\"><input class=\"sk-toggleable__control sk-hidden--visually\" id=\"sk-estimator-id-1\" type=\"checkbox\" checked><label for=\"sk-estimator-id-1\" class=\"sk-toggleable__label sk-toggleable__label-arrow\">LinearRegression</label><div class=\"sk-toggleable__content\"><pre>LinearRegression()</pre></div></div></div></div></div>"
      ],
      "text/plain": [
       "LinearRegression()"
      ]
     },
     "execution_count": 6,
     "metadata": {},
     "output_type": "execute_result"
    }
   ],
   "source": [
    "regressor = LinearRegression(copy_X=True)\n",
    "regressor.fit(X_train, Y_train)"
   ]
  },
  {
   "cell_type": "code",
   "execution_count": 7,
   "id": "624d12c0-df29-4d67-ab20-405234e8b2e5",
   "metadata": {
    "tags": []
   },
   "outputs": [],
   "source": [
    "train_mse = mean_squared_error(regressor.predict(X_train), Y_train)\n",
    "test_mse = mean_squared_error(regressor.predict(X_test), Y_test)"
   ]
  },
  {
   "cell_type": "code",
   "execution_count": 8,
   "id": "60b7dfe7-df17-462a-b4b0-7b59b4a1b7d1",
   "metadata": {
    "tags": []
   },
   "outputs": [
    {
     "name": "stdout",
     "output_type": "stream",
     "text": [
      "train mse: 4.943246375381593e-26\n",
      "test mse: 616.5398616110132\n"
     ]
    }
   ],
   "source": [
    "print(f'train mse: {train_mse}')\n",
    "print(f'test mse: {test_mse}')"
   ]
  },
  {
   "cell_type": "markdown",
   "id": "f07af612-2626-454c-b9c9-bca96d5ca7e8",
   "metadata": {},
   "source": [
    "Due to large number of parameters in comparison with the data points, the model overfits to data, resulting in zero train error and a large test error."
   ]
  },
  {
   "cell_type": "code",
   "execution_count": 30,
   "id": "eb08e82e-1e96-4f88-b351-33e809193c76",
   "metadata": {
    "tags": []
   },
   "outputs": [],
   "source": [
    "def get_eigen_values(X_train):\n",
    "    \n",
    "    # Calculate covariance matrix\n",
    "    A = X_train.T\n",
    "    m = A.mean(axis=1).reshape(-1, 1)\n",
    "    A = A - m\n",
    "    X = A.T @ A\n",
    "\n",
    "    # Eigen value decomposition\n",
    "    L, V = np.linalg.eig(X)\n",
    "    U = A @ V\n",
    "    U = U / np.linalg.norm(U, axis=0)\n",
    "\n",
    "    return U, m\n",
    "\n",
    "U, m = get_eigen_values(X_train)"
   ]
  },
  {
   "cell_type": "code",
   "execution_count": 48,
   "id": "080778a8-6c0f-4382-b733-c9f30c8f6019",
   "metadata": {
    "tags": []
   },
   "outputs": [
    {
     "data": {
      "application/vnd.jupyter.widget-view+json": {
       "model_id": "fb2bdf93da6a4b1d9913cb45a295d85f",
       "version_major": 2,
       "version_minor": 0
      },
      "text/plain": [
       "  0%|          | 0/200 [00:00<?, ?it/s]"
      ]
     },
     "metadata": {},
     "output_type": "display_data"
    }
   ],
   "source": [
    "N_features = np.linspace(1, 1000, 200, dtype=np.int32)\n",
    "train_mses = []\n",
    "test_mses = []\n",
    "\n",
    "for n in tqdm(N_features):\n",
    "    U_truncated = U[:, :n]\n",
    "    X_train_projected = X_train @ U_truncated\n",
    "    X_test_projected = X_test @ U_truncated\n",
    "\n",
    "    regressor = LinearRegression(copy_X=True)\n",
    "    regressor.fit(X_train_projected, Y_train)\n",
    "    train_mse = mean_squared_error(regressor.predict(X_train_projected), Y_train)\n",
    "    test_mse = mean_squared_error(regressor.predict(X_test_projected), Y_test)\n",
    "    \n",
    "    train_mses.append(train_mse)\n",
    "    test_mses.append(test_mse)"
   ]
  },
  {
   "cell_type": "code",
   "execution_count": 50,
   "id": "bff893d1-be1f-493f-9d3b-1b2280011db7",
   "metadata": {
    "tags": []
   },
   "outputs": [
    {
     "data": {
      "image/png": "[encoded data removed]",
      "text/plain": [
       "<Figure size 800x600 with 1 Axes>"
      ]
     },
     "metadata": {},
     "output_type": "display_data"
    }
   ],
   "source": [
    "plt.figure(figsize=(8, 6))\n",
    "plt.plot(N_features, train_mses, label='train')\n",
    "plt.plot(N_features, test_mses, label='test')\n",
    "plt.xlabel('Number of features')\n",
    "plt.ylabel('MSE')\n",
    "plt.legend()\n",
    "plt.grid()"
   ]
  },
  {
   "cell_type": "code",
   "execution_count": 52,
   "id": "305c73a7-8716-439f-84a0-71fb8761c422",
   "metadata": {
    "tags": []
   },
   "outputs": [
    {
     "name": "stdout",
     "output_type": "stream",
     "text": [
      "smallest test error is when number of features is: \n",
      "8\n"
     ]
    }
   ],
   "source": [
    "print(f'smallest test error is when number of features is: ')\n",
    "print(np.argmin(test_mses) + 1)"
   ]
  },
  {
   "cell_type": "markdown",
   "id": "d65e3b0f-64aa-41bd-a4cf-4dd83dede987",
   "metadata": {},
   "source": [
    "When number of features exceeds number of training data (379), train error drops to zero. Moreover, very small number of features results in large test error as well. Therefore, the best number of features must be in between, which turns out to be 8 in this problem."
   ]
  }
 ],
 "metadata": {
  "kernelspec": {
   "display_name": "Python 3 (ipykernel)",
   "language": "python",
   "name": "python3"
  },
  "language_info": {
   "codemirror_mode": {
    "name": "ipython",
    "version": 3
   },
   "file_extension": ".py",
   "mimetype": "text/x-python",
   "name": "python",
   "nbconvert_exporter": "python",
   "pygments_lexer": "ipython3",
   "version": "3.10.12"
  }
 },
 "nbformat": 4,
 "nbformat_minor": 5
}

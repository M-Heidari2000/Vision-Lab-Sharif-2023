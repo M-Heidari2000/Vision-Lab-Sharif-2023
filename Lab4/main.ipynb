{
 "cells": [
  {
   "cell_type": "code",
   "execution_count": 1,
   "id": "f7b6535b-f842-4c33-abe6-d0d9a321f65a",
   "metadata": {},
   "outputs": [],
   "source": [
    "import numpy as np\n",
    "import pandas as PD\n",
    "from matplotlib import pyplot as plt\n",
    "import seaborn as sns\n",
    "from sklearn.svm import SVC\n",
    "from pathlib import Path\n",
    "import cv2\n",
    "import os\n",
    "from sklearn.model_selection import train_test_split\n",
    "from sklearn.decomposition import PCA\n",
    "from sklearn.preprocessing import StandardScaler\n",
    "from sklearn.metrics import confusion_matrix\n",
    "from sklearn.metrics import classification_report\n",
    "from sklearn.model_selection import GridSearchCV"
   ]
  },
  {
   "cell_type": "markdown",
   "id": "7164a644-8b79-4603-8cc2-87c4c5c49d5b",
   "metadata": {},
   "source": [
    "# Part 1"
   ]
  },
  {
   "cell_type": "code",
   "execution_count": 2,
   "id": "25cbe098-6d21-41c1-8b25-a06be7cdde96",
   "metadata": {},
   "outputs": [],
   "source": [
    "# Load dataset\n",
    "\n",
    "ROOT = Path('__file__').parent\n",
    "\n",
    "data_paths = {\n",
    "    'disgust': ROOT / 'dataset' / 'disgust',\n",
    "    'surprise': ROOT / 'dataset' / 'surprise',\n",
    "    'happy': ROOT / 'dataset' / 'happy',\n",
    "    'neutral': ROOT / 'dataset' / 'neutral'\n",
    "}\n",
    "\n",
    "category2int = {\n",
    "    k: i for i, k in enumerate(data_paths.keys())\n",
    "}\n",
    "\n",
    "ORIGINAL_SHAPE = (600, 300)\n",
    "images = []\n",
    "labels = []\n",
    "FACE_SLICE = (slice(120, -120), slice(25, -25))\n",
    "\n",
    "for category, path in data_paths.items():\n",
    "    for img_name in Path.iterdir(path):\n",
    "        img = cv2.imread(str(img_name))\n",
    "        img = cv2.cvtColor(img, cv2.COLOR_BGR2GRAY)\n",
    "        img = img[FACE_SLICE]\n",
    "        img = img.flatten().reshape(1, -1)\n",
    "        images.append(img)\n",
    "        labels.append(category2int[category])\n",
    "\n",
    "# Convert to numpy arrays\n",
    "images = np.concatenate(images, axis=0)\n",
    "labels = np.array(labels)"
   ]
  },
  {
   "cell_type": "code",
   "execution_count": 3,
   "id": "991cbaf7-848b-4424-9d99-7ccc8f6f44cc",
   "metadata": {},
   "outputs": [],
   "source": [
    "# Split dataset\n",
    "\n",
    "test_size = {\n",
    "    'disgust': 30,\n",
    "    'surprise': 60,\n",
    "    'happy': 60,\n",
    "    'neutral': 120\n",
    "}\n",
    "\n",
    "train_idx = []\n",
    "test_idx = []\n",
    "\n",
    "for category, size in test_size.items():\n",
    "    label = category2int[category]\n",
    "    all_idx = np.random.permutation(np.where(labels == label)[0])\n",
    "    train_idx.append(all_idx[:size])\n",
    "    test_idx.append(all_idx[size:])\n",
    "\n",
    "train_idx = np.concatenate(train_idx)\n",
    "test_idx = np.concatenate(test_idx)"
   ]
  },
  {
   "cell_type": "code",
   "execution_count": 4,
   "id": "0a473939-0c53-4e1b-bdb8-e22d3bcd7a43",
   "metadata": {},
   "outputs": [
    {
     "name": "stdout",
     "output_type": "stream",
     "text": [
      "X_train shape: (270, 90000)\n",
      "X_test shape: (140, 90000)\n",
      "y_train shape: (270,)\n",
      "y_test shape: (140,)\n"
     ]
    }
   ],
   "source": [
    "X_train_orig = images[train_idx, :]\n",
    "y_train_orig = labels[train_idx]\n",
    "X_test_orig = images[test_idx, :]\n",
    "y_test_orig = labels[test_idx]\n",
    "\n",
    "print(f'X_train shape: {X_train_orig.shape}')\n",
    "print(f'X_test shape: {X_test_orig.shape}')\n",
    "print(f'y_train shape: {y_train_orig.shape}')\n",
    "print(f'y_test shape: {y_test_orig.shape}')"
   ]
  },
  {
   "cell_type": "code",
   "execution_count": 5,
   "id": "dac63bd5-a435-48ec-a1c7-8569cb7e9260",
   "metadata": {},
   "outputs": [
    {
     "name": "stdout",
     "output_type": "stream",
     "text": [
      "X_train shape: (270, 50)\n",
      "X_test shape: (140, 50)\n"
     ]
    }
   ],
   "source": [
    "# Apply PCA\n",
    "N_DIMS = 50\n",
    "pca = PCA(n_components=N_DIMS)\n",
    "pca.fit(X_train_orig)\n",
    "X_train_orig = pca.transform(X_train_orig)\n",
    "X_test_orig = pca.transform(X_test_orig)\n",
    "\n",
    "print(f'X_train shape: {X_train_orig.shape}')\n",
    "print(f'X_test shape: {X_test_orig.shape}')"
   ]
  },
  {
   "cell_type": "code",
   "execution_count": 6,
   "id": "9416252b-dc83-4d70-9945-bf80600aff24",
   "metadata": {},
   "outputs": [
    {
     "name": "stdout",
     "output_type": "stream",
     "text": [
      "C: 0.01, acc: 82.39999999999999%\n",
      "C: 0.03, acc: 85.3%\n",
      "C: 0.1, acc: 89.7%\n",
      "C: 0.3, acc: 89.7%\n",
      "C: 1, acc: 86.8%\n",
      "C: 3, acc: 85.3%\n",
      "C: 10, acc: 89.7%\n"
     ]
    }
   ],
   "source": [
    "C_VALS = [0.01, 0.03, 0.1, 0.3, 1, 3, 10]\n",
    "accuracies = []\n",
    "\n",
    "for C in C_VALS:\n",
    "    X_train, X_val, y_train, y_val = train_test_split(X_train_orig, y_train_orig, shuffle=True)\n",
    "    scaler = StandardScaler().fit(X_train)\n",
    "    X_train = scaler.transform(X_train)\n",
    "    X_val = scaler.transform(X_val)\n",
    "\n",
    "    clf = SVC(C=C, kernel='linear')\n",
    "    clf.fit(X_train, y_train)\n",
    "    y_val_pred = clf.predict(X_val)\n",
    "    \n",
    "    acc = np.mean(y_val == y_val_pred)\n",
    "    print(f'C: {C}, acc: {np.round(acc, 3) * 100}%')\n",
    "    accuracies.append(acc)"
   ]
  },
  {
   "cell_type": "code",
   "execution_count": 7,
   "id": "753757cf-0a13-432e-a6e9-621c8db7acde",
   "metadata": {},
   "outputs": [
    {
     "data": {
      "text/plain": [
       "0.1"
      ]
     },
     "execution_count": 7,
     "metadata": {},
     "output_type": "execute_result"
    }
   ],
   "source": [
    "best_c_idx = np.argmax(accuracies)\n",
    "best_c = C_VALS[best_c_idx]\n",
    "best_c"
   ]
  },
  {
   "cell_type": "code",
   "execution_count": 8,
   "id": "38709a91-e4a6-4318-b8b5-47562c31e28d",
   "metadata": {},
   "outputs": [
    {
     "name": "stdout",
     "output_type": "stream",
     "text": [
      "116.1895003862225\n",
      "============ Classification metrics ============\n",
      "              precision    recall  f1-score   support\n",
      "\n",
      "           0       0.80      0.71      0.75        17\n",
      "           1       0.93      0.89      0.91        28\n",
      "           2       0.92      0.88      0.90        25\n",
      "           3       0.89      0.94      0.92        70\n",
      "\n",
      "    accuracy                           0.89       140\n",
      "   macro avg       0.88      0.86      0.87       140\n",
      "weighted avg       0.89      0.89      0.89       140\n",
      "\n"
     ]
    },
    {
     "data": {
      "text/plain": [
       "<Axes: >"
      ]
     },
     "execution_count": 8,
     "metadata": {},
     "output_type": "execute_result"
    },
    {
     "data": {
      "image/png": "[encoded data removed]",
      "text/plain": [
       "<Figure size 640x480 with 2 Axes>"
      ]
     },
     "metadata": {},
     "output_type": "display_data"
    }
   ],
   "source": [
    "X_train = X_train_orig.copy()\n",
    "y_train = y_train_orig.copy()\n",
    "X_test = X_test_orig.copy()\n",
    "y_test = y_test_orig.copy()\n",
    "scaler = StandardScaler().fit(X_train)\n",
    "X_train = scaler.transform(X_train)\n",
    "X_test = scaler.transform(X_test)\n",
    "\n",
    "print(np.linalg.norm(X_train))\n",
    "\n",
    "clf = SVC(C=best_c, kernel='linear')\n",
    "clf.fit(X_train, y_train)\n",
    "y_test_preds = clf.predict(X_test)\n",
    "\n",
    "print('============ Classification metrics ============')\n",
    "print(classification_report(y_test, y_test_preds))\n",
    "sns.heatmap(confusion_matrix(y_test, y_test_preds, normalize='true'), annot=True, cmap='Blues')"
   ]
  },
  {
   "cell_type": "markdown",
   "id": "6cade364-c01c-4bd1-bb80-bb1237e3b2d1",
   "metadata": {},
   "source": [
    "# Part 2"
   ]
  },
  {
   "cell_type": "code",
   "execution_count": 14,
   "id": "6d2d000b-8bbe-46db-9dbe-78484e7823d7",
   "metadata": {},
   "outputs": [
    {
     "name": "stdout",
     "output_type": "stream",
     "text": [
      "Best parameters: {'C': 0.0001, 'gamma': 0.0001}\n"
     ]
    }
   ],
   "source": [
    "C_VALS = np.logspace(-4, 2, 20)\n",
    "GAMMA_VALS = np.logspace(-4, 2, 20)\n",
    "\n",
    "parameters = {\n",
    "    'C': C_VALS,\n",
    "    'gamma': GAMMA_VALS\n",
    "}\n",
    "\n",
    "clf = GridSearchCV(SVC(kernel='rbf'), parameters)\n",
    "clf.fit(X_train_orig, y_train_orig)\n",
    "print(f'Best parameters: {clf.best_params_}')"
   ]
  },
  {
   "cell_type": "code",
   "execution_count": 10,
   "id": "4ce716e5-9508-47e1-81a5-4d0220cc8c51",
   "metadata": {},
   "outputs": [
    {
     "name": "stdout",
     "output_type": "stream",
     "text": [
      "============ Classification metrics ============\n",
      "              precision    recall  f1-score   support\n",
      "\n",
      "           0       0.00      0.00      0.00        17\n",
      "           1       0.00      0.00      0.00        28\n",
      "           2       0.00      0.00      0.00        25\n",
      "           3       0.50      1.00      0.67        70\n",
      "\n",
      "    accuracy                           0.50       140\n",
      "   macro avg       0.12      0.25      0.17       140\n",
      "weighted avg       0.25      0.50      0.33       140\n",
      "\n"
     ]
    },
    {
     "name": "stderr",
     "output_type": "stream",
     "text": [
      "/home/milad/Desktop/Vision-Lab-Sharif-2023/Lab3/venv/lib/python3.10/site-packages/sklearn/metrics/_classification.py:1471: UndefinedMetricWarning: Precision and F-score are ill-defined and being set to 0.0 in labels with no predicted samples. Use `zero_division` parameter to control this behavior.\n",
      "  _warn_prf(average, modifier, msg_start, len(result))\n",
      "/home/milad/Desktop/Vision-Lab-Sharif-2023/Lab3/venv/lib/python3.10/site-packages/sklearn/metrics/_classification.py:1471: UndefinedMetricWarning: Precision and F-score are ill-defined and being set to 0.0 in labels with no predicted samples. Use `zero_division` parameter to control this behavior.\n",
      "  _warn_prf(average, modifier, msg_start, len(result))\n",
      "/home/milad/Desktop/Vision-Lab-Sharif-2023/Lab3/venv/lib/python3.10/site-packages/sklearn/metrics/_classification.py:1471: UndefinedMetricWarning: Precision and F-score are ill-defined and being set to 0.0 in labels with no predicted samples. Use `zero_division` parameter to control this behavior.\n",
      "  _warn_prf(average, modifier, msg_start, len(result))\n"
     ]
    },
    {
     "data": {
      "text/plain": [
       "<Axes: >"
      ]
     },
     "execution_count": 10,
     "metadata": {},
     "output_type": "execute_result"
    },
    {
     "data": {
      "image/png": "[encoded data removed]",
      "text/plain": [
       "<Figure size 640x480 with 2 Axes>"
      ]
     },
     "metadata": {},
     "output_type": "display_data"
    }
   ],
   "source": [
    "X_train = X_train_orig.copy()\n",
    "y_train = y_train_orig.copy()\n",
    "X_test = X_test_orig.copy()\n",
    "y_test = y_test_orig.copy()\n",
    "scaler = StandardScaler().fit(X_train)\n",
    "X_train = scaler.transform(X_train)\n",
    "X_test = scaler.transform(X_test)\n",
    "\n",
    "clf = SVC(C=0.01, kernel='rbf', gamma=0.01, decision_function_shape='ovr')\n",
    "clf.fit(X_train, y_train)\n",
    "y_test_preds = clf.predict(X_test)\n",
    "\n",
    "print('============ Classification metrics ============')\n",
    "print(classification_report(y_test, y_test_preds))\n",
    "sns.heatmap(confusion_matrix(y_test, y_test_preds, normalize='true'), annot=True, cmap='Blues')"
   ]
  },
  {
   "cell_type": "code",
   "execution_count": null,
   "id": "13e6a2f2-245e-474d-9bb3-7a29f290077c",
   "metadata": {},
   "outputs": [],
   "source": []
  }
 ],
 "metadata": {
  "kernelspec": {
   "display_name": "Python 3 (ipykernel)",
   "language": "python",
   "name": "python3"
  },
  "language_info": {
   "codemirror_mode": {
    "name": "ipython",
    "version": 3
   },
   "file_extension": ".py",
   "mimetype": "text/x-python",
   "name": "python",
   "nbconvert_exporter": "python",
   "pygments_lexer": "ipython3",
   "version": "3.10.12"
  }
 },
 "nbformat": 4,
 "nbformat_minor": 5
}
